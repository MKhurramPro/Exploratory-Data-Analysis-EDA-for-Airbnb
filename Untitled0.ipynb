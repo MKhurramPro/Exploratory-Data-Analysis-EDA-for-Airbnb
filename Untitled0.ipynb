{
  "nbformat": 4,
  "nbformat_minor": 0,
  "metadata": {
    "colab": {
      "provenance": [],
      "authorship_tag": "ABX9TyNMibRJq3oBvcCUxJkEss5z"
    },
    "kernelspec": {
      "name": "python3",
      "display_name": "Python 3"
    },
    "language_info": {
      "name": "python"
    }
  },
  "cells": [
    {
      "cell_type": "code",
      "execution_count": 1,
      "metadata": {
        "id": "H6J7BVQiiBuf",
        "outputId": "1d83d13d-2a70-4aa7-a8b8-8e59cd340cd6",
        "colab": {
          "base_uri": "https://localhost:8080/"
        }
      },
      "outputs": [
        {
          "output_type": "stream",
          "name": "stdout",
          "text": [
            "Khurram\n"
          ]
        }
      ],
      "source": [
        "print('Khurram')"
      ]
    },
    {
      "cell_type": "code",
      "source": [],
      "metadata": {
        "id": "JnXIHwl7iFTO"
      },
      "execution_count": null,
      "outputs": []
    }
  ]
}